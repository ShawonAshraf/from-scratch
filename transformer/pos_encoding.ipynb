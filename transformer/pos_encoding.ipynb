{
 "cells": [
  {
   "cell_type": "markdown",
   "metadata": {},
   "source": [
    "# Positional Encoding\n",
    "\n",
    "While Transformer does model sequences, a lack of recurrency means that it doesn't have the notion of ordering in sequence. More specifically, it doesn't care or care to know which timestamp or element in a sequence comes after or before the other. \n",
    "\n",
    "This is problematic for NLP tasks. Sentences maintain word order and jumbled words will barely make sense. The solution to this is to add positional encoding which tells transformer that $x$ is a token in position $i$ and $y$ is a token in position $j$. "
   ]
  },
  {
   "cell_type": "markdown",
   "metadata": {},
   "source": [
    "In the original transformer implementation, what they did was to use fixed positional encoding where, even positions are defined by a sin signal and the odd ones with a cosine."
   ]
  },
  {
   "cell_type": "code",
   "execution_count": 3,
   "metadata": {},
   "outputs": [],
   "source": [
    "import torch\n",
    "import torch.nn.functional as F\n",
    "from einops import rearrange"
   ]
  },
  {
   "cell_type": "code",
   "execution_count": null,
   "metadata": {},
   "outputs": [],
   "source": [
    "d_model = 32\n",
    "dropout = 0.1\n",
    "max_seq_len = 64\n",
    "\n",
    "def positional_encoding(x, d_model, dropout, max_seq_len):\n",
    "    # vector of max seq len x model hidden dimension size \n",
    "    # (d comes from the model embedding layer)\n",
    "    encodings = torch.zeros(max_seq_len, d_model)\n",
    "    position = torch.arange(0, max_seq_len)\n",
    "    # this will be of max_seq_len dim\n",
    "    # we need a vector -> max_seq_len dim x 1\n",
    "    position = rearrange(position, \"s -> s 1\")\n",
    "    # could've also used unsqueeze but I prefer einops\n",
    "    \n",
    "    factor = torch.exp(\n",
    "        torch.arange(0, d_model, 2) *\n",
    "        (-torch.log(torch.tensor(10000.0)) / d_model)\n",
    "    )\n",
    "    \n",
    "    # assign to odd and even psoition\n",
    "    \n",
    "    # even\n",
    "    # 0::2 gives all the even entries\n",
    "    encodings[:, 0::2] = torch.sin(position * factor)\n",
    "    # odd\n",
    "    # 1::2 gives all the odd entries\n",
    "    encodings[:, 1::2] = torch.sin(position * factor)\n",
    "    \n",
    "    \n",
    "    encodings = rearrange(encodings, \"seq dmodel -> 1 seq dmodel\")\n",
    "    \n",
    "    encoded_x = x + encodings[:, :x.size(1)]\n",
    "    # duing training, encodings will not differentiated during backprop\n",
    "    # it's not a model variable\n",
    "    \n",
    "    return F.dropout(encoded_x, p=dropout)\n",
    "\n",
    "\n",
    "# ===========\n",
    "# suppose, x is an embedding vector for a sequence from the model's embedding layer\n",
    "x = torch.zeros(1, max_seq_len, d_model)\n",
    "pe = positional_encoding(\n",
    "    x, d_model=d_model, dropout=0, max_seq_len=max_seq_len)"
   ]
  },
  {
   "cell_type": "code",
   "execution_count": null,
   "metadata": {},
   "outputs": [
    {
     "data": {
      "text/html": [
       "\n",
       "<style>\n",
       "  #altair-viz-aa96e0bc71864dde82f9f70dc518ae6a.vega-embed {\n",
       "    width: 100%;\n",
       "    display: flex;\n",
       "  }\n",
       "\n",
       "  #altair-viz-aa96e0bc71864dde82f9f70dc518ae6a.vega-embed details,\n",
       "  #altair-viz-aa96e0bc71864dde82f9f70dc518ae6a.vega-embed details summary {\n",
       "    position: relative;\n",
       "  }\n",
       "</style>\n",
       "<div id=\"altair-viz-aa96e0bc71864dde82f9f70dc518ae6a\"></div>\n",
       "<script type=\"text/javascript\">\n",
       "  var VEGA_DEBUG = (typeof VEGA_DEBUG == \"undefined\") ? {} : VEGA_DEBUG;\n",
       "  (function(spec, embedOpt){\n",
       "    let outputDiv = document.currentScript.previousElementSibling;\n",
       "    if (outputDiv.id !== \"altair-viz-aa96e0bc71864dde82f9f70dc518ae6a\") {\n",
       "      outputDiv = document.getElementById(\"altair-viz-aa96e0bc71864dde82f9f70dc518ae6a\");\n",
       "    }\n",
       "\n",
       "    const paths = {\n",
       "      \"vega\": \"https://cdn.jsdelivr.net/npm/vega@5?noext\",\n",
       "      \"vega-lib\": \"https://cdn.jsdelivr.net/npm/vega-lib?noext\",\n",
       "      \"vega-lite\": \"https://cdn.jsdelivr.net/npm/vega-lite@5.20.1?noext\",\n",
       "      \"vega-embed\": \"https://cdn.jsdelivr.net/npm/vega-embed@6?noext\",\n",
       "    };\n",
       "\n",
       "    function maybeLoadScript(lib, version) {\n",
       "      var key = `${lib.replace(\"-\", \"\")}_version`;\n",
       "      return (VEGA_DEBUG[key] == version) ?\n",
       "        Promise.resolve(paths[lib]) :\n",
       "        new Promise(function(resolve, reject) {\n",
       "          var s = document.createElement('script');\n",
       "          document.getElementsByTagName(\"head\")[0].appendChild(s);\n",
       "          s.async = true;\n",
       "          s.onload = () => {\n",
       "            VEGA_DEBUG[key] = version;\n",
       "            return resolve(paths[lib]);\n",
       "          };\n",
       "          s.onerror = () => reject(`Error loading script: ${paths[lib]}`);\n",
       "          s.src = paths[lib];\n",
       "        });\n",
       "    }\n",
       "\n",
       "    function showError(err) {\n",
       "      outputDiv.innerHTML = `<div class=\"error\" style=\"color:red;\">${err}</div>`;\n",
       "      throw err;\n",
       "    }\n",
       "\n",
       "    function displayChart(vegaEmbed) {\n",
       "      vegaEmbed(outputDiv, spec, embedOpt)\n",
       "        .catch(err => showError(`Javascript Error: ${err.message}<br>This usually means there's a typo in your chart specification. See the javascript console for the full traceback.`));\n",
       "    }\n",
       "\n",
       "    if(typeof define === \"function\" && define.amd) {\n",
       "      requirejs.config({paths});\n",
       "      let deps = [\"vega-embed\"];\n",
       "      require(deps, displayChart, err => showError(`Error loading script: ${err.message}`));\n",
       "    } else {\n",
       "      maybeLoadScript(\"vega\", \"5\")\n",
       "        .then(() => maybeLoadScript(\"vega-lite\", \"5.20.1\"))\n",
       "        .then(() => maybeLoadScript(\"vega-embed\", \"6\"))\n",
       "        .catch(showError)\n",
       "        .then(() => displayChart(vegaEmbed));\n",
       "    }\n",
       "  })({\"config\": {\"view\": {\"continuousWidth\": 300, \"continuousHeight\": 300}}, \"data\": {\"name\": \"data-d905dc48d950aabcda68c8b5562b4cad\"}, \"mark\": {\"type\": \"line\"}, \"encoding\": {\"color\": {\"field\": \"dimension\", \"type\": \"nominal\"}, \"x\": {\"field\": \"position\", \"type\": \"quantitative\"}, \"y\": {\"field\": \"embedding\", \"type\": \"quantitative\"}}, \"params\": [{\"name\": \"param_1\", \"select\": {\"type\": \"interval\", \"encodings\": [\"x\", \"y\"]}, \"bind\": \"scales\"}], \"width\": 800, \"$schema\": \"https://vega.github.io/schema/vega-lite/v5.20.1.json\", \"datasets\": {\"data-d905dc48d950aabcda68c8b5562b4cad\": [{\"embedding\": 0.0, \"dimension\": 2, \"position\": 0}, {\"embedding\": 0.5331684350967407, \"dimension\": 2, \"position\": 1}, {\"embedding\": 0.9021307229995728, \"dimension\": 2, \"position\": 2}, {\"embedding\": 0.9932531714439392, \"dimension\": 2, \"position\": 3}, {\"embedding\": 0.7784717082977295, \"dimension\": 2, \"position\": 4}, {\"embedding\": 0.32393527030944824, \"dimension\": 2, \"position\": 5}, {\"embedding\": -0.230367511510849, \"dimension\": 2, \"position\": 6}, {\"embedding\": -0.7137212753295898, \"dimension\": 2, \"position\": 7}, {\"embedding\": -0.9772617816925049, \"dimension\": 2, \"position\": 8}, {\"embedding\": -0.9398235082626343, \"dimension\": 2, \"position\": 9}, {\"embedding\": -0.6129369139671326, \"dimension\": 2, \"position\": 10}, {\"embedding\": -0.09727645665407181, \"dimension\": 2, \"position\": 11}, {\"embedding\": 0.4483429789543152, \"dimension\": 2, \"position\": 12}, {\"embedding\": 0.8558809757232666, \"dimension\": 2, \"position\": 13}, {\"embedding\": 0.9998233318328857, \"dimension\": 2, \"position\": 14}, {\"embedding\": 0.8358384370803833, \"dimension\": 2, \"position\": 15}, {\"embedding\": 0.4144302308559418, \"dimension\": 2, \"position\": 16}, {\"embedding\": -0.13461513817310333, \"dimension\": 2, \"position\": 17}, {\"embedding\": -0.6422007083892822, \"dimension\": 2, \"position\": 18}, {\"embedding\": -0.9520008563995361, \"dimension\": 2, \"position\": 19}, {\"embedding\": -0.9686019420623779, \"dimension\": 2, \"position\": 20}, {\"embedding\": -0.6868911981582642, \"dimension\": 2, \"position\": 21}, {\"embedding\": -0.19363023340702057, \"dimension\": 2, \"position\": 22}, {\"embedding\": 0.3592645227909088, \"dimension\": 2, \"position\": 23}, {\"embedding\": 0.801513135433197, \"dimension\": 2, \"position\": 24}, {\"embedding\": 0.9969099760055542, \"dimension\": 2, \"position\": 25}, {\"embedding\": 0.8852767944335938, \"dimension\": 2, \"position\": 26}, {\"embedding\": 0.5009942054748535, \"dimension\": 2, \"position\": 27}, {\"embedding\": -0.03758566081523895, \"dimension\": 2, \"position\": 28}, {\"embedding\": -0.56458979845047, \"dimension\": 2, \"position\": 29}, {\"embedding\": -0.9177096486091614, \"dimension\": 2, \"position\": 30}, {\"embedding\": -0.9881927967071533, \"dimension\": 2, \"position\": 31}, {\"embedding\": -0.7543302178382874, \"dimension\": 2, \"position\": 32}, {\"embedding\": -0.2881473898887634, \"dimension\": 2, \"position\": 33}, {\"embedding\": 0.26677972078323364, \"dimension\": 2, \"position\": 34}, {\"embedding\": 0.7395421266555786, \"dimension\": 2, \"position\": 35}, {\"embedding\": 0.984540581703186, \"dimension\": 2, \"position\": 36}, {\"embedding\": 0.9263181090354919, \"dimension\": 2, \"position\": 37}, {\"embedding\": 0.5828061699867249, \"dimension\": 2, \"position\": 38}, {\"embedding\": 0.05980031564831734, \"dimension\": 2, \"position\": 39}, {\"embedding\": -0.48162129521369934, \"dimension\": 2, \"position\": 40}, {\"embedding\": -0.8747140169143677, \"dimension\": 2, \"position\": 41}, {\"embedding\": -0.9984104633331299, \"dimension\": 2, \"position\": 42}, {\"embedding\": -0.8146142363548279, \"dimension\": 2, \"position\": 43}, {\"embedding\": -0.37993139028549194, \"dimension\": 2, \"position\": 44}, {\"embedding\": 0.1717635691165924, \"dimension\": 2, \"position\": 45}, {\"embedding\": 0.6705570220947266, \"dimension\": 2, \"position\": 46}, {\"embedding\": 0.9628326892852783, \"dimension\": 2, \"position\": 47}, {\"embedding\": 0.9585731029510498, \"dimension\": 2, \"position\": 48}, {\"embedding\": 0.6590901017189026, \"dimension\": 2, \"position\": 49}, {\"embedding\": 0.15661907196044922, \"dimension\": 2, \"position\": 50}, {\"embedding\": -0.3940860629081726, \"dimension\": 2, \"position\": 51}, {\"embedding\": -0.8234215974807739, \"dimension\": 2, \"position\": 52}, {\"embedding\": -0.9991579651832581, \"dimension\": 2, \"position\": 53}, {\"embedding\": -0.8671715259552002, \"dimension\": 2, \"position\": 54}, {\"embedding\": -0.46811169385910034, \"dimension\": 2, \"position\": 55}, {\"embedding\": 0.07511820644140244, \"dimension\": 2, \"position\": 56}, {\"embedding\": 0.5952115058898926, \"dimension\": 2, \"position\": 57}, {\"embedding\": 0.9319928288459778, \"dimension\": 2, \"position\": 58}, {\"embedding\": 0.9817358255386353, \"dimension\": 2, \"position\": 59}, {\"embedding\": 0.7291237115859985, \"dimension\": 2, \"position\": 60}, {\"embedding\": 0.25195226073265076, \"dimension\": 2, \"position\": 61}, {\"embedding\": -0.3028128743171692, \"dimension\": 2, \"position\": 62}, {\"embedding\": -0.7643200755119324, \"dimension\": 2, \"position\": 63}, {\"embedding\": 0.0, \"dimension\": 5, \"position\": 0}, {\"embedding\": 0.3109835982322693, \"dimension\": 5, \"position\": 1}, {\"embedding\": 0.5911270976066589, \"dimension\": 5, \"position\": 2}, {\"embedding\": 0.8126488924026489, \"dimension\": 5, \"position\": 3}, {\"embedding\": 0.9535807371139526, \"dimension\": 5, \"position\": 4}, {\"embedding\": 0.9999465346336365, \"dimension\": 5, \"position\": 5}, {\"embedding\": 0.9471482038497925, \"dimension\": 5, \"position\": 6}, {\"embedding\": 0.8004215955734253, \"dimension\": 5, \"position\": 7}, {\"embedding\": 0.5743178129196167, \"dimension\": 5, \"position\": 8}, {\"embedding\": 0.291259229183197, \"dimension\": 5, \"position\": 9}, {\"embedding\": -0.020683569833636284, \"dimension\": 5, \"position\": 10}, {\"embedding\": -0.33057495951652527, \"dimension\": 5, \"position\": 11}, {\"embedding\": -0.6076834201812744, \"dimension\": 5, \"position\": 12}, {\"embedding\": -0.8245284557342529, \"dimension\": 5, \"position\": 13}, {\"embedding\": -0.9596053957939148, \"dimension\": 5, \"position\": 14}, {\"embedding\": -0.9995186924934387, \"dimension\": 5, \"position\": 15}, {\"embedding\": -0.9403103590011597, \"dimension\": 5, \"position\": 16}, {\"embedding\": -0.787851870059967, \"dimension\": 5, \"position\": 17}, {\"embedding\": -0.5572628974914551, \"dimension\": 5, \"position\": 18}, {\"embedding\": -0.27141010761260986, \"dimension\": 5, \"position\": 19}, {\"embedding\": 0.04135828837752342, \"dimension\": 5, \"position\": 20}, {\"embedding\": 0.3500247597694397, \"dimension\": 5, \"position\": 21}, {\"embedding\": 0.623979926109314, \"dimension\": 5, \"position\": 22}, {\"embedding\": 0.8360552191734314, \"dimension\": 5, \"position\": 23}, {\"embedding\": 0.965219259262085, \"dimension\": 5, \"position\": 24}, {\"embedding\": 0.9986631870269775, \"dimension\": 5, \"position\": 25}, {\"embedding\": 0.933070182800293, \"dimension\": 5, \"position\": 26}, {\"embedding\": 0.7749450206756592, \"dimension\": 5, \"position\": 27}, {\"embedding\": 0.5399689674377441, \"dimension\": 5, \"position\": 28}, {\"embedding\": 0.25144532322883606, \"dimension\": 5, \"position\": 29}, {\"embedding\": -0.06201484054327011, \"dimension\": 5, \"position\": 30}, {\"embedding\": -0.36932501196861267, \"dimension\": 5, \"position\": 31}, {\"embedding\": -0.6400094032287598, \"dimension\": 5, \"position\": 32}, {\"embedding\": -0.8472243547439575, \"dimension\": 5, \"position\": 33}, {\"embedding\": -0.9704204797744751, \"dimension\": 5, \"position\": 34}, {\"embedding\": -0.9973804354667664, \"dimension\": 5, \"position\": 35}, {\"embedding\": -0.9254310131072998, \"dimension\": 5, \"position\": 36}, {\"embedding\": -0.7617069482803345, \"dimension\": 5, \"position\": 37}, {\"embedding\": -0.5224447846412659, \"dimension\": 5, \"position\": 38}, {\"embedding\": -0.23137201368808746, \"dimension\": 5, \"position\": 39}, {\"embedding\": 0.08264580368995667, \"dimension\": 5, \"position\": 40}, {\"embedding\": 0.3884676992893219, \"dimension\": 5, \"position\": 41}, {\"embedding\": 0.6557646989822388, \"dimension\": 5, \"position\": 42}, {\"embedding\": 0.8580306768417358, \"dimension\": 5, \"position\": 43}, {\"embedding\": 0.975206196308136, \"dimension\": 5, \"position\": 44}, {\"embedding\": 0.9956709742546082, \"dimension\": 5, \"position\": 45}, {\"embedding\": 0.9173954725265503, \"dimension\": 5, \"position\": 46}, {\"embedding\": 0.7481423616409302, \"dimension\": 5, \"position\": 47}, {\"embedding\": 0.5046970844268799, \"dimension\": 5, \"position\": 48}, {\"embedding\": 0.21120065450668335, \"dimension\": 5, \"position\": 49}, {\"embedding\": -0.10324046015739441, \"dimension\": 5, \"position\": 50}, {\"embedding\": -0.40744414925575256, \"dimension\": 5, \"position\": 51}, {\"embedding\": -0.6712401509284973, \"dimension\": 5, \"position\": 52}, {\"embedding\": -0.8684699535369873, \"dimension\": 5, \"position\": 53}, {\"embedding\": -0.9795749187469482, \"dimension\": 5, \"position\": 54}, {\"embedding\": -0.9935355186462402, \"dimension\": 5, \"position\": 55}, {\"embedding\": -0.9089674353599548, \"dimension\": 5, \"position\": 56}, {\"embedding\": -0.7342582941055298, \"dimension\": 5, \"position\": 57}, {\"embedding\": -0.48673349618911743, \"dimension\": 5, \"position\": 58}, {\"embedding\": -0.19093801081180573, \"dimension\": 5, \"position\": 59}, {\"embedding\": 0.12379094958305359, \"dimension\": 5, \"position\": 60}, {\"embedding\": 0.42624542117118835, \"dimension\": 5, \"position\": 61}, {\"embedding\": 0.686427652835846, \"dimension\": 5, \"position\": 62}, {\"embedding\": 0.8785385489463806, \"dimension\": 5, \"position\": 63}, {\"embedding\": 0.0, \"dimension\": 7, \"position\": 0}, {\"embedding\": 0.17689219117164612, \"dimension\": 7, \"position\": 1}, {\"embedding\": 0.3482052683830261, \"dimension\": 7, \"position\": 2}, {\"embedding\": 0.5085361003875732, \"dimension\": 7, \"position\": 3}, {\"embedding\": 0.6528279781341553, \"dimension\": 7, \"position\": 4}, {\"embedding\": 0.7765299677848816, \"dimension\": 7, \"position\": 5}, {\"embedding\": 0.8757405281066895, \"dimension\": 7, \"position\": 6}, {\"embedding\": 0.9473307132720947, \"dimension\": 7, \"position\": 7}, {\"embedding\": 0.9890424609184265, \"dimension\": 7, \"position\": 8}, {\"embedding\": 0.9995602965354919, \"dimension\": 7, \"position\": 9}, {\"embedding\": 0.978552520275116, \"dimension\": 7, \"position\": 10}, {\"embedding\": 0.9266815781593323, \"dimension\": 7, \"position\": 11}, {\"embedding\": 0.8455836176872253, \"dimension\": 7, \"position\": 12}, {\"embedding\": 0.7378162145614624, \"dimension\": 7, \"position\": 13}, {\"embedding\": 0.6067785620689392, \"dimension\": 7, \"position\": 14}, {\"embedding\": 0.4566032588481903, \"dimension\": 7, \"position\": 15}, {\"embedding\": 0.292027086019516, \"dimension\": 7, \"position\": 16}, {\"embedding\": 0.11824052035808563, \"dimension\": 7, \"position\": 17}, {\"embedding\": -0.05927551910281181, \"dimension\": 7, \"position\": 18}, {\"embedding\": -0.23492179811000824, \"dimension\": 7, \"position\": 19}, {\"embedding\": -0.4031589925289154, \"dimension\": 7, \"position\": 20}, {\"embedding\": -0.558680534362793, \"dimension\": 7, \"position\": 21}, {\"embedding\": -0.6965817213058472, \"dimension\": 7, \"position\": 22}, {\"embedding\": -0.8125128746032715, \"dimension\": 7, \"position\": 23}, {\"embedding\": -0.9028177857398987, \"dimension\": 7, \"position\": 24}, {\"embedding\": -0.9646483063697815, \"dimension\": 7, \"position\": 25}, {\"embedding\": -0.9960543513298035, \"dimension\": 7, \"position\": 26}, {\"embedding\": -0.9960451722145081, \"dimension\": 7, \"position\": 27}, {\"embedding\": -0.9646213054656982, \"dimension\": 7, \"position\": 28}, {\"embedding\": -0.9027736783027649, \"dimension\": 7, \"position\": 29}, {\"embedding\": -0.8124527931213379, \"dimension\": 7, \"position\": 30}, {\"embedding\": -0.6965078115463257, \"dimension\": 7, \"position\": 31}, {\"embedding\": -0.5585952997207642, \"dimension\": 7, \"position\": 32}, {\"embedding\": -0.40306493639945984, \"dimension\": 7, \"position\": 33}, {\"embedding\": -0.2348221242427826, \"dimension\": 7, \"position\": 34}, {\"embedding\": -0.059172678738832474, \"dimension\": 7, \"position\": 35}, {\"embedding\": 0.11834258586168289, \"dimension\": 7, \"position\": 36}, {\"embedding\": 0.2921253740787506, \"dimension\": 7, \"position\": 37}, {\"embedding\": 0.45669469237327576, \"dimension\": 7, \"position\": 38}, {\"embedding\": 0.6068604588508606, \"dimension\": 7, \"position\": 39}, {\"embedding\": 0.7378857135772705, \"dimension\": 7, \"position\": 40}, {\"embedding\": 0.8456384539604187, \"dimension\": 7, \"position\": 41}, {\"embedding\": 0.9267202019691467, \"dimension\": 7, \"position\": 42}, {\"embedding\": 0.9785736203193665, \"dimension\": 7, \"position\": 43}, {\"embedding\": 0.9995633363723755, \"dimension\": 7, \"position\": 44}, {\"embedding\": 0.9890272617340088, \"dimension\": 7, \"position\": 45}, {\"embedding\": 0.9472978115081787, \"dimension\": 7, \"position\": 46}, {\"embedding\": 0.8756909966468811, \"dimension\": 7, \"position\": 47}, {\"embedding\": 0.7764653563499451, \"dimension\": 7, \"position\": 48}, {\"embedding\": 0.6527503728866577, \"dimension\": 7, \"position\": 49}, {\"embedding\": 0.5084480047225952, \"dimension\": 7, \"position\": 50}, {\"embedding\": 0.3481085002422333, \"dimension\": 7, \"position\": 51}, {\"embedding\": 0.17679068446159363, \"dimension\": 7, \"position\": 52}, {\"embedding\": -0.0001030206767609343, \"dimension\": 7, \"position\": 53}, {\"embedding\": -0.1769934743642807, \"dimension\": 7, \"position\": 54}, {\"embedding\": -0.34830164909362793, \"dimension\": 7, \"position\": 55}, {\"embedding\": -0.5086245536804199, \"dimension\": 7, \"position\": 56}, {\"embedding\": -0.6529057025909424, \"dimension\": 7, \"position\": 57}, {\"embedding\": -0.7765945196151733, \"dimension\": 7, \"position\": 58}, {\"embedding\": -0.875789999961853, \"dimension\": 7, \"position\": 59}, {\"embedding\": -0.9473637938499451, \"dimension\": 7, \"position\": 60}, {\"embedding\": -0.989057719707489, \"dimension\": 7, \"position\": 61}, {\"embedding\": -0.9995572566986084, \"dimension\": 7, \"position\": 62}, {\"embedding\": -0.9785313010215759, \"dimension\": 7, \"position\": 63}, {\"embedding\": 0.0, \"dimension\": 10, \"position\": 0}, {\"embedding\": 0.05620449036359787, \"dimension\": 10, \"position\": 1}, {\"embedding\": 0.1122312992811203, \"dimension\": 10, \"position\": 2}, {\"embedding\": 0.16790328919887543, \"dimension\": 10, \"position\": 3}, {\"embedding\": 0.2230444699525833, \"dimension\": 10, \"position\": 4}, {\"embedding\": 0.27748051285743713, \"dimension\": 10, \"position\": 5}, {\"embedding\": 0.33103930950164795, \"dimension\": 10, \"position\": 6}, {\"embedding\": 0.38355153799057007, \"dimension\": 10, \"position\": 7}, {\"embedding\": 0.43485116958618164, \"dimension\": 10, \"position\": 8}, {\"embedding\": 0.484776109457016, \"dimension\": 10, \"position\": 9}, {\"embedding\": 0.533168375492096, \"dimension\": 10, \"position\": 10}, {\"embedding\": 0.579875111579895, \"dimension\": 10, \"position\": 11}, {\"embedding\": 0.6247485876083374, \"dimension\": 10, \"position\": 12}, {\"embedding\": 0.6676469445228577, \"dimension\": 10, \"position\": 13}, {\"embedding\": 0.7084345817565918, \"dimension\": 10, \"position\": 14}, {\"embedding\": 0.7469825744628906, \"dimension\": 10, \"position\": 15}, {\"embedding\": 0.7831689715385437, \"dimension\": 10, \"position\": 16}, {\"embedding\": 0.8168794512748718, \"dimension\": 10, \"position\": 17}, {\"embedding\": 0.8480074405670166, \"dimension\": 10, \"position\": 18}, {\"embedding\": 0.8764544725418091, \"dimension\": 10, \"position\": 19}, {\"embedding\": 0.902130663394928, \"dimension\": 10, \"position\": 20}, {\"embedding\": 0.9249548316001892, \"dimension\": 10, \"position\": 21}, {\"embedding\": 0.944854736328125, \"dimension\": 10, \"position\": 22}, {\"embedding\": 0.9617676138877869, \"dimension\": 10, \"position\": 23}, {\"embedding\": 0.9756398797035217, \"dimension\": 10, \"position\": 24}, {\"embedding\": 0.9864276647567749, \"dimension\": 10, \"position\": 25}, {\"embedding\": 0.9940969944000244, \"dimension\": 10, \"position\": 26}, {\"embedding\": 0.9986234903335571, \"dimension\": 10, \"position\": 27}, {\"embedding\": 0.9999929666519165, \"dimension\": 10, \"position\": 28}, {\"embedding\": 0.9982009530067444, \"dimension\": 10, \"position\": 29}, {\"embedding\": 0.9932531714439392, \"dimension\": 10, \"position\": 30}, {\"embedding\": 0.9851653575897217, \"dimension\": 10, \"position\": 31}, {\"embedding\": 0.9739629030227661, \"dimension\": 10, \"position\": 32}, {\"embedding\": 0.9596813917160034, \"dimension\": 10, \"position\": 33}, {\"embedding\": 0.9423658847808838, \"dimension\": 10, \"position\": 34}, {\"embedding\": 0.922071099281311, \"dimension\": 10, \"position\": 35}, {\"embedding\": 0.8988612294197083, \"dimension\": 10, \"position\": 36}, {\"embedding\": 0.8728097081184387, \"dimension\": 10, \"position\": 37}, {\"embedding\": 0.8439988493919373, \"dimension\": 10, \"position\": 38}, {\"embedding\": 0.8125197291374207, \"dimension\": 10, \"position\": 39}, {\"embedding\": 0.7784718871116638, \"dimension\": 10, \"position\": 40}, {\"embedding\": 0.7419629096984863, \"dimension\": 10, \"position\": 41}, {\"embedding\": 0.7031083106994629, \"dimension\": 10, \"position\": 42}, {\"embedding\": 0.662030816078186, \"dimension\": 10, \"position\": 43}, {\"embedding\": 0.6188604235649109, \"dimension\": 10, \"position\": 44}, {\"embedding\": 0.5737334489822388, \"dimension\": 10, \"position\": 45}, {\"embedding\": 0.5267927050590515, \"dimension\": 10, \"position\": 46}, {\"embedding\": 0.47818654775619507, \"dimension\": 10, \"position\": 47}, {\"embedding\": 0.428068608045578, \"dimension\": 10, \"position\": 48}, {\"embedding\": 0.3765973448753357, \"dimension\": 10, \"position\": 49}, {\"embedding\": 0.32393550872802734, \"dimension\": 10, \"position\": 50}, {\"embedding\": 0.2702495753765106, \"dimension\": 10, \"position\": 51}, {\"embedding\": 0.21570923924446106, \"dimension\": 10, \"position\": 52}, {\"embedding\": 0.16048695147037506, \"dimension\": 10, \"position\": 53}, {\"embedding\": 0.10475730895996094, \"dimension\": 10, \"position\": 54}, {\"embedding\": 0.048696476966142654, \"dimension\": 10, \"position\": 55}, {\"embedding\": -0.007518308237195015, \"dimension\": 10, \"position\": 56}, {\"embedding\": -0.0637093260884285, \"dimension\": 10, \"position\": 57}, {\"embedding\": -0.11969892680644989, \"dimension\": 10, \"position\": 58}, {\"embedding\": -0.17531010508537292, \"dimension\": 10, \"position\": 59}, {\"embedding\": -0.230367049574852, \"dimension\": 10, \"position\": 60}, {\"embedding\": -0.28469571471214294, \"dimension\": 10, \"position\": 61}, {\"embedding\": -0.3381243050098419, \"dimension\": 10, \"position\": 62}, {\"embedding\": -0.3904839754104614, \"dimension\": 10, \"position\": 63}]}}, {\"mode\": \"vega-lite\"});\n",
       "</script>"
      ],
      "text/plain": [
       "alt.Chart(...)"
      ]
     },
     "execution_count": 5,
     "metadata": {},
     "output_type": "execute_result"
    }
   ],
   "source": [
    "# using the visualisation shown in annotated transformer notebook\n",
    "import pandas as pd\n",
    "import altair as alt\n",
    "\n",
    "\n",
    "def example_positional(y):\n",
    "    data = pd.concat(\n",
    "        [\n",
    "            pd.DataFrame(\n",
    "                {\n",
    "                    \"embedding\": y[0, :, dim],\n",
    "                    \"dimension\": dim,\n",
    "                    \"position\": list(range(max_seq_len)),\n",
    "                }\n",
    "            )\n",
    "            for dim in [2, 5, 7, 10]\n",
    "        ]\n",
    "    )\n",
    "\n",
    "    return (\n",
    "        alt.Chart(data)\n",
    "        .mark_line()\n",
    "        .properties(width=800)\n",
    "        .encode(x=\"position\", y=\"embedding\", color=\"dimension:N\")\n",
    "        .interactive()\n",
    "    )\n",
    "    \n",
    "example_positional(y=pe)"
   ]
  },
  {
   "cell_type": "code",
   "execution_count": null,
   "metadata": {},
   "outputs": [],
   "source": []
  }
 ],
 "metadata": {
  "kernelspec": {
   "display_name": ".venv",
   "language": "python",
   "name": "python3"
  },
  "language_info": {
   "codemirror_mode": {
    "name": "ipython",
    "version": 3
   },
   "file_extension": ".py",
   "mimetype": "text/x-python",
   "name": "python",
   "nbconvert_exporter": "python",
   "pygments_lexer": "ipython3",
   "version": "3.12.8"
  }
 },
 "nbformat": 4,
 "nbformat_minor": 2
}
